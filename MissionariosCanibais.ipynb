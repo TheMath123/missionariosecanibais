{
  "nbformat": 4,
  "nbformat_minor": 0,
  "metadata": {
    "colab": {
      "name": "ProblemaMissionariosCanibais.ipynb",
      "provenance": [],
      "collapsed_sections": []
    },
    "kernelspec": {
      "name": "python3",
      "display_name": "Python 3"
    }
  },
  "cells": [
    {
      "cell_type": "markdown",
      "metadata": {
        "id": "1pT3w9WJQuu2",
        "colab_type": "text"
      },
      "source": [
        "# **Problema dos Missionários e Canibais**"
      ]
    },
    {
      "cell_type": "markdown",
      "metadata": {
        "id": "lGIbg4X46nNz",
        "colab_type": "text"
      },
      "source": [
        "**Autor**: Matheus Agostinho"
      ]
    },
    {
      "cell_type": "code",
      "metadata": {
        "id": "2guXyRsYjtNx",
        "colab_type": "code",
        "colab": {}
      },
      "source": [
        "import time\n",
        "import numpy as np"
      ],
      "execution_count": 0,
      "outputs": []
    },
    {
      "cell_type": "markdown",
      "metadata": {
        "id": "_dt1ZHRlP5g3",
        "colab_type": "text"
      },
      "source": [
        "# Estado\n"
      ]
    },
    {
      "cell_type": "code",
      "metadata": {
        "id": "aEtPeWP5P3c8",
        "colab_type": "code",
        "colab": {}
      },
      "source": [
        "class Estado:\n",
        "\n",
        "    \"\"\" Representa um estado dentro de uma arvore de estados, aonde cada estado representa a configuração\n",
        "    do problema, ou seja a posição de cada elemento. O estado contém a quantidade de missionário na margem esquerda\n",
        "    (missionarios_esq), a quantidade de canibais na margem esquerda (canibais_esq), a quantidade de missionários\n",
        "    na margem direita (missionarios_dir), a quantidade canibais na margem direita (canibais_dir), o lado da margem\n",
        "    aonde o barco se encontra (lado_barco) e seu estado pai. \"\"\"\n",
        "\n",
        "    def __init__(self, missionarios_esq, canibais_esq, missionarios_dir, canibais_dir, lado_barco):\n",
        "        \"\"\" Inicializa um estado com a quantidade de missionários e canibais em cada lado do rio,\n",
        "        além da posição do barco. \"\"\"\n",
        "\n",
        "        self.missionarios_esq = missionarios_esq\n",
        "        self.canibais_esq = canibais_esq\n",
        "        self.missionarios_dir = missionarios_dir\n",
        "        self.canibais_dir = canibais_dir\n",
        "\n",
        "        self.lado_barco = lado_barco\n",
        "        # Para o estado inicial o pai será nulo.\n",
        "        self.pai = None\n",
        "\n",
        "    def __eq__(self, outro):\n",
        "        # Compara se um estado é igual ao outro pelo seus atributos.\n",
        "        if isinstance(self, Estado) and isinstance(outro,Estado):\n",
        "            # Se as classes forem diferentes a comparação não será válida.\n",
        "            return self.missionarios_esq == outro.missionarios_esq \\\n",
        "            and self.canibais_esq == outro.canibais_esq \\\n",
        "            and self.missionarios_dir == outro.missionarios_dir \\\n",
        "            and self.canibais_dir == outro.canibais_dir \\\n",
        "            and self.lado_barco == outro.lado_barco\n",
        "        return False\n",
        "\n",
        "    def __str__(self):\n",
        "        # Retorna um String contendo as informações do Estado.\n",
        "        return '({}, {}, {}, {})'.format(self.missionarios_esq, self.canibais_esq, self.missionarios_dir, self.canibais_dir)"
      ],
      "execution_count": 0,
      "outputs": []
    },
    {
      "cell_type": "markdown",
      "metadata": {
        "id": "c5ZikkloP9IO",
        "colab_type": "text"
      },
      "source": [
        "# Algoritmos de Busca\n"
      ]
    },
    {
      "cell_type": "markdown",
      "metadata": {
        "id": "YUPuHhdVQHdo",
        "colab_type": "text"
      },
      "source": [
        "Busca em Largura\n"
      ]
    },
    {
      "cell_type": "code",
      "metadata": {
        "id": "owibDYdOQGWt",
        "colab_type": "code",
        "colab": {}
      },
      "source": [
        "\"\"\" A busca em largura insere os nós adjacentes no final da\n",
        "fronteira, pois usa uma estrutura de FIFO. \"\"\"\n",
        "\n",
        "class Busca_em_Largura:\n",
        "    def coloca_fronteira(self, fronteira, adjacentes):\n",
        "        fronteira =  fronteira + adjacentes\n",
        "        return fronteira"
      ],
      "execution_count": 0,
      "outputs": []
    },
    {
      "cell_type": "markdown",
      "metadata": {
        "colab_type": "text",
        "id": "oM5cuLUrQLWt"
      },
      "source": [
        "Busca em Profundidade"
      ]
    },
    {
      "cell_type": "code",
      "metadata": {
        "id": "N42VjmfaQAtV",
        "colab_type": "code",
        "colab": {}
      },
      "source": [
        "\"\"\" A busca em largura insere os nós adjacentes no inicio da\n",
        "fronteira, pois usa uma estrutura de LIFO. \"\"\"\n",
        "\n",
        "class Busca_em_Profundidade:\n",
        "    def coloca_fronteira(self, fronteira, adjacentes):\n",
        "        fronteira = adjacentes + fronteira\n",
        "        return fronteira"
      ],
      "execution_count": 0,
      "outputs": []
    },
    {
      "cell_type": "markdown",
      "metadata": {
        "id": "ucjQXgkyNJnE",
        "colab_type": "text"
      },
      "source": [
        "Busca Gulosa"
      ]
    },
    {
      "cell_type": "code",
      "metadata": {
        "id": "wwNKQ0HGNI6N",
        "colab_type": "code",
        "colab": {}
      },
      "source": [
        "\"\"\" A busca gulosa insere inicialmente os nós no final, após\n",
        "isso a lista será ordenada em ordem decrescente (melhores estados aparentes no início). \"\"\"\n",
        "\n",
        "class Busca_Gulosa:\n",
        "    def coloca_fronteira(self, fronteira, adjacentes):\n",
        "        #Função Heurística\n",
        "        heuristica = lambda x : x.missionarios_esq + x.canibais_esq\n",
        "        fronteira = fronteira + adjacentes\n",
        "        #Ordena a lista com base na função heurística em ordem decrescente.\n",
        "        fronteira.sort(key=heuristica, reverse=True)\n",
        "        return fronteira"
      ],
      "execution_count": 0,
      "outputs": []
    },
    {
      "cell_type": "markdown",
      "metadata": {
        "id": "18YCAu13QSS-",
        "colab_type": "text"
      },
      "source": [
        "# Busca"
      ]
    },
    {
      "cell_type": "code",
      "metadata": {
        "id": "ABhOFsMq0mE2",
        "colab_type": "code",
        "colab": {}
      },
      "source": [
        "class Busca:\n",
        "    \"\"\" Representa todas operações que será feitas com os estados até chegar em uma \n",
        "    ou nenhuma solução. A busca contém o estado inicial que é a posição inicial\n",
        "    dos missionários, canibais e do barco no escopo do problema, o algoritmo de busca\n",
        "    que representa a estratégia de busca para alcançar o objetivo, além de sua\n",
        "    de sua fronteira que será a estrutura de dados responsável por armazenar\n",
        "    os estados que serão verificados e expandidos. \"\"\"\n",
        "\n",
        "    def __init__(self, estado_inicial, algoritmo_busca):\n",
        "        \"\"\" Na inicialização é possível definir o estado inicial, além de\n",
        "        seu algoritmo de busca que será um objeto da classe de busca. \"\"\"\n",
        "\n",
        "        self.estado_inicial = estado_inicial\n",
        "        self.algoritmo_busca = algoritmo_busca\n",
        "        \n",
        "        self.fronteira = []\n",
        "        self.fronteira.append(estado_inicial)\n",
        "\n",
        "    def teste_objetivo(self, estado):\n",
        "        \"\"\" O teste objetivo verifica se o estado atual é o estado esperado ou seja\n",
        "        3 missionários e 3 canibais na margem esquerda do rio \"\"\"\n",
        "\n",
        "        missionarios = self.estado_inicial.missionarios_dir\n",
        "        canibais = self.estado_inicial.canibais_dir\n",
        "\n",
        "        return estado.canibais_esq == canibais \\\n",
        "        and estado.missionarios_esq == missionarios\n",
        "        \n",
        "    def valida_estado(self, estado):\n",
        "        \"\"\" Verifica se o estado é valido, ou seja que não há um número\n",
        "        negativo de missionários e canibais, e também se o estado obedece\n",
        "        a restrição do problema, não tendo um número maior de canibais do \n",
        "        que de missionários. \"\"\"\n",
        "\n",
        "        if ((estado.missionarios_esq < 0) or (estado.missionarios_dir < 0)\n",
        "        or (estado.canibais_esq < 0) or (estado.canibais_dir < 0)):\n",
        "            return False\n",
        "        \n",
        "        return ((estado.missionarios_esq == 0 or estado.missionarios_esq >= estado.canibais_esq) and\n",
        "                (estado.missionarios_dir == 0 or estado.missionarios_dir >= estado.canibais_dir))\n",
        "        \n",
        "    def gerar_sucessores(self, pai, visitados):\n",
        "        \"\"\" Gera uma lista de estados sucessores com base na configuração\n",
        "        do pai e da lista de nós visitados, os estados que não são válidos\n",
        "        não são colocados na lista. \"\"\"\n",
        "\n",
        "        sucessores = []\n",
        "\n",
        "        #Lista contendo um dicionário que indica o próximo movimentos\n",
        "        movimentos = [\n",
        "            {'missionarios': 2, 'canibais': 0},\n",
        "            {'missionarios': 1, 'canibais': 0},\n",
        "            {'missionarios': 1, 'canibais': 1},\n",
        "            {'missionarios': 0, 'canibais': 1},\n",
        "            {'missionarios': 0, 'canibais': 2},\n",
        "        ]\n",
        "\n",
        "        #Cada possível movimento presente no dicionário.\n",
        "        for movimento in movimentos:\n",
        "            #O barco está na margem direita.\n",
        "            if pai.lado_barco:\n",
        "                missionarios_dir = pai.missionarios_dir - movimento['missionarios']\n",
        "                missionarios_esq = pai.missionarios_esq + movimento['missionarios']\n",
        "                canibais_dir = pai.canibais_dir - movimento['canibais']\n",
        "                canibais_esq = pai.canibais_esq + movimento['canibais']\n",
        "            #O barco está na margem esquerda.\n",
        "            else:\n",
        "                missionarios_esq = pai.missionarios_esq - movimento['missionarios']\n",
        "                missionarios_dir = pai.missionarios_dir + movimento['missionarios']\n",
        "                canibais_esq = pai.canibais_esq - movimento['canibais']\n",
        "                canibais_dir = pai.canibais_dir + movimento['canibais']\n",
        "            \n",
        "            estado = Estado(missionarios_esq, canibais_esq, missionarios_dir, canibais_dir, (pai.lado_barco + 1) % 2)\n",
        "            estado.pai = pai\n",
        "\n",
        "            \"\"\" Se o estado cumpre as restrições e não está na lista de estados visitados\n",
        "            então ele será adicionado na fronteira e na lista de estados visitados. \"\"\"\n",
        "            if self.valida_estado(estado) and estado not in visitados:\n",
        "                sucessores.append(estado)\n",
        "                visitados.append(estado)\n",
        "\n",
        "        return sucessores\n",
        "                \n",
        "    def gerar_solucao(self):\n",
        "        \"\"\" Gera a solução, ou seja o caminho do estado inicial até o estado esperado do\n",
        "        problema. Além da solução, é retornado o tempo gasto para calcular a solução\n",
        "        e a quantidade de expansões que ele fez até achar a solução. \"\"\"\n",
        "\n",
        "        solucao = []\n",
        "        visitados = []\n",
        "\n",
        "        complexidade_tempo = time.time()\n",
        "        complexidade_espaco = 0\n",
        "\n",
        "        # Enquanto tiver algum estado na fronteira.\n",
        "        while self.fronteira:\n",
        "            # Retira sempre o primeiro estado na fronteira.\n",
        "            estado = self.fronteira.pop(0)\n",
        "            # Concatena a fronteira com os estados filhos expandidos do estado atual com base no algoritmo escolhido.\n",
        "            self.fronteira = self.algoritmo_busca.coloca_fronteira(self.fronteira,self.gerar_sucessores(estado, visitados))\n",
        "            complexidade_espaco += 1\n",
        "\n",
        "            # Verifica se o estado é o estado objetivo.\n",
        "            if self.teste_objetivo(estado):\n",
        "                # Realiza o 'backtracking' do estado objetivo até o estado raiz (estado inicial).\n",
        "                while estado.pai != None:\n",
        "                    solucao.insert(0,estado)\n",
        "                    estado = estado.pai\n",
        "                solucao.insert(0, estado)\n",
        "                break\n",
        "        # Calcula o tempo necessário para calcular a solução.\n",
        "        complexidade_tempo = time.time() - complexidade_tempo\n",
        "\n",
        "        return solucao, complexidade_tempo, complexidade_espaco\n",
        "    \n",
        "    def traduz_solucao(self, solucao):\n",
        "        \"\"\" Como a representação do problema é muito abstrata, é dificil aplicar\n",
        "        a solução apresentada para um aplicação real do problema. Portanto a \n",
        "        solução será \"traduzida\" para uma representação mais agradável visualmente. \"\"\"\n",
        "\n",
        "        saida = []\n",
        "        # Percorre a lista dos estados da solução.\n",
        "        for n, estado in enumerate(solucao):\n",
        "            if n < len(solucao) - 1:\n",
        "                vizinho = solucao[n+1]\n",
        "                \n",
        "                # A ação realizada é calculada pela diferença absoluta entre os estados.\n",
        "                me = abs(vizinho.missionarios_esq - estado.missionarios_esq)\n",
        "                ce = abs(vizinho.canibais_esq - estado.canibais_esq)\n",
        "                md = abs(vizinho.missionarios_dir - estado.missionarios_dir)\n",
        "                cd = abs(vizinho.canibais_dir - estado.canibais_dir)\n",
        "\n",
        "                lado = 'esquerda' if estado.lado_barco else 'direita'\n",
        "\n",
        "                if (me == 2 or md == 2):\n",
        "                    saida.append('Dois missionarios movem para margem {}'.format(lado))\n",
        "                elif (ce == 2 or cd == 2):\n",
        "                    saida.append('Dois canibais movem para margem {}'.format(lado))\n",
        "                elif ((me == 1 and ce == 1) or (md == 1 and cd == 1)):\n",
        "                    saida.append('Um missionario e um canibal movem para margem {}'.format(lado))\n",
        "                elif me == 1 or md == 1:\n",
        "                    saida.append('Um missionario move para margem {}'.format(lado))\n",
        "                else:\n",
        "                    saida.append('Um canibal move para margem {}'.format(lado))\n",
        "        return saida"
      ],
      "execution_count": 0,
      "outputs": []
    },
    {
      "cell_type": "markdown",
      "metadata": {
        "id": "yFjlVSuHQb-P",
        "colab_type": "text"
      },
      "source": [
        "# Solução"
      ]
    },
    {
      "cell_type": "code",
      "metadata": {
        "id": "hvdACfJnQbMP",
        "colab_type": "code",
        "outputId": "f55ee446-273b-4130-d0e6-2d15a33385fd",
        "colab": {
          "base_uri": "https://localhost:8080/",
          "height": 218
        }
      },
      "source": [
        "# Estado inicial: Missionarios, Canibais, Missionarios, Canibais, Barco.\n",
        "estado_inicial = Estado(0,0,3,3,1)\n",
        "# Define o tipo de busca.\n",
        "busca = Busca_em_Largura()\n",
        "# Inicializa o problema.\n",
        "problema = Busca(estado_inicial, busca)\n",
        "# Gera a solução do problema.\n",
        "solucao, tempo, espaco = problema.gerar_solucao()\n",
        "\n",
        "for estado in solucao:\n",
        "    print(estado, estado.lado_barco)\n",
        "\n",
        "print()\n",
        "for acao in problema.traduz_solucao(solucao):\n",
        "    print(acao)\n"
      ],
      "execution_count": 11,
      "outputs": [
        {
          "output_type": "stream",
          "text": [
            "(0, 0, 2, 2) 1\n",
            "(1, 1, 1, 1) 0\n",
            "(0, 1, 2, 1) 1\n",
            "(2, 1, 0, 1) 0\n",
            "(1, 1, 1, 1) 1\n",
            "(2, 2, 0, 0) 0\n",
            "\n",
            "Um missionario e um canibal movem para margem esquerda\n",
            "Um missionario move para margem direita\n",
            "Dois missionarios movem para margem esquerda\n",
            "Um missionario move para margem direita\n",
            "Um missionario e um canibal movem para margem esquerda\n"
          ],
          "name": "stdout"
        }
      ]
    },
    {
      "cell_type": "markdown",
      "metadata": {
        "id": "-33IsLP_vMnd",
        "colab_type": "text"
      },
      "source": [
        "# Análise\n"
      ]
    },
    {
      "cell_type": "code",
      "metadata": {
        "id": "xXWt3CEbvQAs",
        "colab_type": "code",
        "outputId": "24da554a-e3e2-4f97-a671-5b1821902bd5",
        "colab": {
          "base_uri": "https://localhost:8080/",
          "height": 470
        }
      },
      "source": [
        "\"\"\" Para testar a performance de cada algoritmo de busca para o problema será realizado\n",
        "várias iterações do problema, e será calculado a média de tempo para fins de análise. \"\"\"\n",
        "\n",
        "# Número de iterações.\n",
        "n = 1000\n",
        "\n",
        "algoritmos = ['Busca em Largura', 'Busca em Profundidade', 'Busca Gulosa']\n",
        "valores = {}\n",
        "\n",
        "estado_inicial = Estado(0,0,3,3,1)\n",
        "# Realiza a busca n vezes.\n",
        "for i in range(n):\n",
        "\n",
        "    for algoritmo in algoritmos:\n",
        "        if algoritmo == 'Busca em Largura':\n",
        "            busca = Busca_em_Largura()\n",
        "        elif algoritmo == 'Busca em Profundidade':\n",
        "            busca = Busca_em_Profundidade()\n",
        "        elif algoritmo == 'Busca Gulosa':\n",
        "            busca = Busca_Gulosa()\n",
        "\n",
        "                \n",
        "        problema = Busca(estado_inicial, busca)    \n",
        "        solucao, tempo, espaco = problema.gerar_solucao()\n",
        "\n",
        "        # Retorna uma lista vazia, caso não ache algum elemento\n",
        "        valores[algoritmo] = valores.get(algoritmo, []) + [(len(solucao) - 1, tempo, espaco)]\n",
        "        # O campo valores do algoritmo armazena o tamanho da solução, o tempo e o espaço.\n",
        "\n",
        "#Dicionário para armazenar os resultados.\n",
        "comp = {}\n",
        "# Para cada algoritmo será gerado um resultado.\n",
        "for algoritmo in algoritmos:\n",
        "    print('Algoritmo:', algoritmo,'\\n')\n",
        "\n",
        "    # Número de passos do problema.\n",
        "    passos = valores[algoritmo][0][0]\n",
        "    # Média de tempo do problema.\n",
        "    media_tempo = np.mean([n[1] for n in valores[algoritmo]])\n",
        "    # Calcula o desvio padrão do  tempo do problema.\n",
        "    desvio_tempo = np.std([n[1] for n in valores[algoritmo]])\n",
        "    # Calcula a quantidade de vezes que foi necessário expandir um estado.\n",
        "    espaco = valores[algoritmo][0][2]\n",
        "\n",
        "    #Armazena o resultado de cada algoritmo no dicionário.\n",
        "    comp[algoritmo] = [passos, media_tempo, desvio_tempo, espaco]\n",
        "    \n",
        "\n",
        "    print('Número de passos: [{}]'.format(comp[algoritmo][0]))\n",
        "    print('Média do tempo de processamento: [{} s]'.format(comp[algoritmo][1]))\n",
        "    print('Desvio padrão do tempo de processamento: [{} s]'.format(comp[algoritmo][2]))\n",
        "    print('Número de expansões necessárias para alcançar a solução: [{}]'.format(comp[algoritmo][3]))\n",
        "    print('\\n', '-' * 30)\n",
        "\n",
        "#Ordena os valores pelas métricas apresentadas anteriormente.\n",
        "comp = sorted(comp.items(), key=lambda item: item[1])\n",
        "\n",
        "#Imprime a lista dos algoritmos ordenados pela sua eficiência.\n",
        "for i in comp:\n",
        "    print(i[0])\n",
        "\n"
      ],
      "execution_count": 8,
      "outputs": [
        {
          "output_type": "stream",
          "text": [
            "Algoritmo: Busca em Largura \n",
            "\n",
            "Número de passos: [5]\n",
            "Média do tempo de processamento: [0.0001635868549346924 s]\n",
            "Desvio padrão do tempo de processamento: [4.160665932254449e-05 s]\n",
            "Número de expansões necessárias para alcançar a solução: [11]\n",
            "\n",
            " ------------------------------\n",
            "Algoritmo: Busca em Profundidade \n",
            "\n",
            "Número de passos: [5]\n",
            "Média do tempo de processamento: [0.0001256237030029297 s]\n",
            "Desvio padrão do tempo de processamento: [2.681126777175849e-05 s]\n",
            "Número de expansões necessárias para alcançar a solução: [8]\n",
            "\n",
            " ------------------------------\n",
            "Algoritmo: Busca Gulosa \n",
            "\n",
            "Número de passos: [5]\n",
            "Média do tempo de processamento: [0.0001462552547454834 s]\n",
            "Desvio padrão do tempo de processamento: [3.3676624111580634e-05 s]\n",
            "Número de expansões necessárias para alcançar a solução: [9]\n",
            "\n",
            " ------------------------------\n",
            "Busca em Profundidade\n",
            "Busca Gulosa\n",
            "Busca em Largura\n"
          ],
          "name": "stdout"
        }
      ]
    }
  ]
}
